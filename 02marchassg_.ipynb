{
  "nbformat": 4,
  "nbformat_minor": 0,
  "metadata": {
    "colab": {
      "provenance": []
    },
    "kernelspec": {
      "name": "python3",
      "display_name": "Python 3"
    },
    "language_info": {
      "name": "python"
    }
  },
  "cells": [
    {
      "cell_type": "markdown",
      "source": [
        " **Q1: What is Matplotlib? Why is it used? Name five plots that can be plotted using the Pyplot module of\n",
        "Matplotlib.**"
      ],
      "metadata": {
        "id": "sodSHxC1ID8p"
      }
    },
    {
      "cell_type": "markdown",
      "source": [
        "Matplotlib is a popular open-source plotting library for Python programming language. It provides a wide range of tools for creating various types of visualizations, such as line charts, scatter plots, bar charts, histograms, heatmaps, and more.\n",
        "\n",
        "Matplotlib is used for data visualization, exploration, and communication. It allows you to create high-quality, publication-ready figures with customization options for everything from line styles and colors to text placement and axis labels. Matplotlib is widely used in the scientific community, engineering, and data analysis.\n",
        "\n",
        "Here are five plots that can be plotted using the Pyplot module of Matplotlib:\n",
        "\n",
        "Line chart: A line chart is used to show trends over time, where the x-axis represents time, and the y-axis represents the variable being measured. You can create a line chart using the \"plot\" function in Pyplot.\n",
        "\n",
        "Scatter plot: A scatter plot is used to show the relationship between two variables, where each point represents an observation. You can create a scatter plot using the \"scatter\" function in Pyplot.\n",
        "\n",
        "Bar chart: A bar chart is used to show comparisons between different categories. You can create a bar chart using the \"bar\" function in Pyplot.\n",
        "\n",
        "Histogram: A histogram is used to show the distribution of a variable. You can create a histogram using the \"hist\" function in Pyplot.\n",
        "\n",
        "Heatmap: A heatmap is used to show the relationship between two variables using color-coded cells. You can create a heatmap using the \"imshow\" function in Pyplot."
      ],
      "metadata": {
        "id": "aIdyq_X7Iyw-"
      }
    },
    {
      "cell_type": "markdown",
      "source": [],
      "metadata": {
        "id": "snSizTP9P-i_"
      }
    },
    {
      "cell_type": "markdown",
      "source": [
        "**Q2: What is a scatter plot? Use the following code to generate data for x and y. Using this generated data\n",
        "plot a scatter plot.\n",
        "import numpy as np\n",
        "np.random.seed(3)\n",
        "x = 3 + np.random.normal(0, 2, 50)\n",
        "y = 3 + np.random.normal(0, 2, len(x))\n",
        "Note: Also add title, xlabel, and ylabel to the plot.**"
      ],
      "metadata": {
        "id": "-Ws7m2MAQCo4"
      }
    },
    {
      "cell_type": "markdown",
      "source": [
        "A scatter plot is a type of graph used to visualize the relationship between two continuous variables. It consists of a set of points, where each point represents a pair of values for the two variables being compared."
      ],
      "metadata": {
        "id": "S62KsJWfPZ8z"
      }
    },
    {
      "cell_type": "code",
      "source": [
        "import numpy as np\n",
        "\n",
        "np.random.seed(3)\n",
        "x = 3 + np.random.normal(0, 2, 50)\n",
        "y = 3 + np.random.normal(0, 2, len(x))\n"
      ],
      "metadata": {
        "id": "qTh31M2qPbGb"
      },
      "execution_count": 2,
      "outputs": []
    },
    {
      "cell_type": "code",
      "source": [
        "import matplotlib.pyplot as plt\n",
        "\n",
        "np.random.seed(3)\n",
        "x = 3 + np.random.normal(0, 2, 50)\n",
        "y = 3 + np.random.normal(0, 2, len(x))\n",
        "\n",
        "plt.scatter(x, y)\n",
        "plt.title('Scatter Plot of X and Y')\n",
        "plt.xlabel('X values')\n",
        "plt.ylabel('Y values')\n",
        "plt.show()\n"
      ],
      "metadata": {
        "colab": {
          "base_uri": "https://localhost:8080/",
          "height": 295
        },
        "id": "m-gKxjFTPmhv",
        "outputId": "87410ec0-ae38-496f-85e5-841a2c3f3338"
      },
      "execution_count": 3,
      "outputs": [
        {
          "output_type": "display_data",
          "data": {
            "text/plain": [
              "<Figure size 432x288 with 1 Axes>"
            ],
            "image/png": "[encoded data removed]"
          },
          "metadata": {
            "needs_background": "light"
          }
        }
      ]
    },
    {
      "cell_type": "markdown",
      "source": [
        "Q3: Why is the subplot() function used? Draw four line plots using the subplot() function.\n",
        "Use the following data:\n",
        "import numpy as np\n",
        "For line 1: x = np.array([0, 1, 2, 3, 4, 5]) and y = np.array([0, 100, 200, 300, 400, 500])\n",
        "For line 2: x = np.array([0, 1, 2, 3, 4, 5]) and y = np.array([50, 20, 40, 20, 60, 70])\n",
        "For line 3: x = np.array([0, 1, 2, 3, 4, 5]) and y = np.array([10, 20, 30, 40, 50, 60])\n",
        "For line 4: x = np.array([0, 1, 2, 3, 4, 5]) and y = np.array([200, 350, 250, 550, 450, 150])"
      ],
      "metadata": {
        "id": "cDM4WedOQMQd"
      }
    },
    {
      "cell_type": "markdown",
      "source": [
        "The 'subplot()' function in Matplotlib is used to create multiple plots in a single figure. It allows you to divide the figure into a grid of rows and columns, and specify the position of each plot in the grid."
      ],
      "metadata": {
        "id": "3cXPZVfxRGZc"
      }
    },
    {
      "cell_type": "code",
      "source": [
        "import numpy as np\n",
        "import matplotlib.pyplot as plt\n",
        "\n",
        "# create data for the lines\n",
        "x1 = np.array([0, 1, 2, 3, 4, 5])\n",
        "y1 = np.array([0, 100, 200, 300, 400, 500])\n",
        "\n",
        "x2 = np.array([0, 1, 2, 3, 4, 5])\n",
        "y2 = np.array([50, 20, 40, 20, 60, 70])\n",
        "\n",
        "x3 = np.array([0, 1, 2, 3, 4, 5])\n",
        "y3 = np.array([10, 20, 30, 40, 50, 60])\n",
        "\n",
        "x4 = np.array([0, 1, 2, 3, 4, 5])\n",
        "y4 = np.array([200, 350, 250, 550, 450, 150])\n",
        "\n",
        "# create the subplots and plot the lines\n",
        "plt.subplot(2, 2, 1)\n",
        "plt.plot(x1, y1)\n",
        "plt.title('Line 1')\n",
        "\n",
        "plt.subplot(2, 2, 2)\n",
        "plt.plot(x2, y2)\n",
        "plt.title('Line 2')\n",
        "\n",
        "plt.subplot(2, 2, 3)\n",
        "plt.plot(x3, y3)\n",
        "plt.title('Line 3')\n",
        "\n",
        "plt.subplot(2, 2, 4)\n",
        "plt.plot(x4, y4)\n",
        "plt.title('Line 4')\n",
        "\n",
        "# adjust the layout and display the plots\n",
        "plt.tight_layout()\n",
        "plt.show()\n"
      ],
      "metadata": {
        "colab": {
          "base_uri": "https://localhost:8080/",
          "height": 297
        },
        "id": "Fa2Np3A0RH9u",
        "outputId": "a2af86dc-dddb-4da5-b39e-a24dc038bfcc"
      },
      "execution_count": 5,
      "outputs": [
        {
          "output_type": "display_data",
          "data": {
            "text/plain": [
              "<Figure size 432x288 with 4 Axes>"
            ],
            "image/png": "[encoded data removed]"
          },
          "metadata": {
            "needs_background": "light"
          }
        }
      ]
    },
    {
      "cell_type": "markdown",
      "source": [
        "Q4: What is a bar plot? Why is it used? Using the following data plot a bar plot and a horizontal bar plot.\n",
        "import numpy as np\n",
        "company = np.array([\"Apple\", \"Microsoft\", \"Google\", \"AMD\"])\n",
        "profit = np.array([3000, 8000, 1000, 10000])"
      ],
      "metadata": {
        "id": "nzOpzBRqReEo"
      }
    },
    {
      "cell_type": "markdown",
      "source": [
        "A bar plot is a graphical representation of data in which bars of different heights or lengths are used to represent different values. It is commonly used to compare different categories of data.\n",
        "\n",
        "A vertical bar plot shows the values on the y-axis and the categories on the x-axis, while a horizontal bar plot shows the values on the x-axis and the categories on the y-axis."
      ],
      "metadata": {
        "id": "xeGLdKBrR8ms"
      }
    },
    {
      "cell_type": "code",
      "source": [
        "import numpy as np\n",
        "import matplotlib.pyplot as plt\n",
        "\n",
        "company = np.array([\"Apple\", \"Microsoft\", \"Google\", \"AMD\"])\n",
        "profit = np.array([3000, 8000, 1000, 10000])\n"
      ],
      "metadata": {
        "id": "RfA7qv9ASfg4"
      },
      "execution_count": 6,
      "outputs": []
    },
    {
      "cell_type": "code",
      "source": [
        "# vertical bar plot\n",
        "plt.bar(company, profit)\n",
        "plt.title(\"Profit by Company\")\n",
        "plt.xlabel(\"Company\")\n",
        "plt.ylabel(\"Profit (in millions)\")\n",
        "plt.show()\n",
        "\n"
      ],
      "metadata": {
        "id": "2hrBSvTeSkDL",
        "outputId": "f736b4f4-489d-4272-fc3a-bdefe19a2bcb",
        "colab": {
          "base_uri": "https://localhost:8080/",
          "height": 295
        }
      },
      "execution_count": 7,
      "outputs": [
        {
          "output_type": "display_data",
          "data": {
            "text/plain": [
              "<Figure size 432x288 with 1 Axes>"
            ],
            "image/png": "[encoded data removed]"
          },
          "metadata": {
            "needs_background": "light"
          }
        }
      ]
    },
    {
      "cell_type": "code",
      "source": [
        "# horizontal bar plot\n",
        "plt.barh(company, profit)\n",
        "plt.title(\"Profit by Company\")\n",
        "plt.xlabel(\"Profit (in millions)\")\n",
        "plt.ylabel(\"Company\")\n",
        "plt.show()"
      ],
      "metadata": {
        "id": "T_0r4PnZSncE",
        "outputId": "4d65d2d3-6d4f-4535-fb1a-a183628cddc0",
        "colab": {
          "base_uri": "https://localhost:8080/",
          "height": 295
        }
      },
      "execution_count": 8,
      "outputs": [
        {
          "output_type": "display_data",
          "data": {
            "text/plain": [
              "<Figure size 432x288 with 1 Axes>"
            ],
            "image/png": "[encoded data removed]"
          },
          "metadata": {
            "needs_background": "light"
          }
        }
      ]
    },
    {
      "cell_type": "markdown",
      "source": [
        "Q5: What is a box plot? Why is it used? Using the following data plot a box plot.\n",
        "box1 = np.random.normal(100, 10, 200)\n",
        "box2 = np.random.normal(90, 20, 200)"
      ],
      "metadata": {
        "id": "qnFVvswBSNxo"
      }
    },
    {
      "cell_type": "markdown",
      "source": [
        "A box plot, also known as a box-and-whisker plot, is a graphical representation of statistical data based on the minimum, first quartile, median, third quartile, and maximum values. It is commonly used to show the distribution of a dataset and to identify any outliers.\n",
        "\n",
        "To create a box plot in Matplotlib, we can use the boxplot() function, which takes a list or array of data as its input. In the following code, we create two arrays box1 and box2 using NumPy's random number generator to simulate some data, and then plot them as a single box plot:\n"
      ],
      "metadata": {
        "id": "WbVLTwMQS53l"
      }
    },
    {
      "cell_type": "code",
      "source": [
        "import numpy as np\n",
        "import matplotlib.pyplot as plt\n",
        "\n",
        "box1 = np.random.normal(100, 10, 200)\n",
        "box2 = np.random.normal(90, 20, 200)\n",
        "\n",
        "data = [box1, box2]\n",
        "\n",
        "plt.boxplot(data)\n",
        "plt.title(\"Box Plot of Two Datasets\")\n",
        "plt.ylabel(\"Value\")\n",
        "plt.xticks([1, 2], ['Box 1', 'Box 2'])\n",
        "plt.show()\n"
      ],
      "metadata": {
        "id": "gqayO9jcS6uV",
        "outputId": "fc3a8a03-4494-43cc-eafa-706ebc1d6f96",
        "colab": {
          "base_uri": "https://localhost:8080/",
          "height": 281
        }
      },
      "execution_count": 9,
      "outputs": [
        {
          "output_type": "display_data",
          "data": {
            "text/plain": [
              "<Figure size 432x288 with 1 Axes>"
            ],
            "image/png": "[encoded data removed]"
          },
          "metadata": {
            "needs_background": "light"
          }
        }
      ]
    },
    {
      "cell_type": "code",
      "source": [],
      "metadata": {
        "id": "UQ3yym89TGv5"
      },
      "execution_count": null,
      "outputs": []
    }
  ]
}