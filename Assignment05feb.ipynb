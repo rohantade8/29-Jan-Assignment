{
  "nbformat": 4,
  "nbformat_minor": 0,
  "metadata": {
    "colab": {
      "provenance": []
    },
    "kernelspec": {
      "name": "python3",
      "display_name": "Python 3"
    },
    "language_info": {
      "name": "python"
    }
  },
  "cells": [
    {
      "cell_type": "code",
      "source": [
        "# Q1. Explain Class and Object with respect to Object-Oriented Programming. Give a suitable example."
      ],
      "metadata": {
        "id": "znt15ku2sB5A"
      },
      "execution_count": 2,
      "outputs": []
    },
    {
      "cell_type": "markdown",
      "source": [
        "A class is a blueprint or a template for creating objects. It defines a set of attributes (data) \n",
        "and behaviors (methods) that the objects created from the class will have. For example, in an OOP program,\n",
        "you might define a class \"Car\" that contains data such as the make, model, and year, as well as methods like start, stop, and accelerate.\n",
        "\n",
        "An object, on the other hand, is an instance of a class. When you create an object from a class,\n",
        "you're creating a specific \"object\" with its own unique set of data.\n",
        "For example, you might create an object \"myCar\" from the \"Car\" class and set its make to \"Toyota\", its model to \"Camry\", and its year to \"2020\".\n",
        "\n",
        "So, to summarize, a class is a blueprint for creating objects, and an object is an instance of a class with its own unique data."
      ],
      "metadata": {
        "id": "u36qB8OKykUc"
      }
    },
    {
      "cell_type": "code",
      "source": [
        "class Car:\n",
        "    def __init__(self, make, model, year):\n",
        "        self.make = make\n",
        "        self.model = model\n",
        "        self.year = year\n",
        "\n",
        "    def start(self):\n",
        "        print(f\"{self.make} {self.model} started\")\n",
        "\n",
        "    def stop(self):\n",
        "        print(f\"{self.make} {self.model} stopped\")\n",
        "\n",
        "myCar = Car(\"Toyota\", \"Camry\", 2020)\n",
        "print(f\"Make: {myCar.make}\")\n",
        "print(f\"Model: {myCar.model}\")\n",
        "print(f\"Year: {myCar.year}\")\n",
        "myCar.start()\n",
        "myCar.stop()\n"
      ],
      "metadata": {
        "colab": {
          "base_uri": "https://localhost:8080/"
        },
        "id": "16ruVI44yw-q",
        "outputId": "20650c9e-73ed-4795-f105-a955d2b977a2"
      },
      "execution_count": 3,
      "outputs": [
        {
          "output_type": "stream",
          "name": "stdout",
          "text": [
            "Make: Toyota\n",
            "Model: Camry\n",
            "Year: 2020\n",
            "Toyota Camry started\n",
            "Toyota Camry stopped\n"
          ]
        }
      ]
    },
    {
      "cell_type": "code",
      "source": [
        "# Q2 . Name the four pillars of OOPs."
      ],
      "metadata": {
        "id": "_sKQBVv1yxuq"
      },
      "execution_count": 4,
      "outputs": []
    },
    {
      "cell_type": "markdown",
      "source": [
        "The four pillars of Object-Oriented Programming (OOP) are:\n",
        "\n",
        "Abstraction: This refers to the ability to focus on essential features and ignore the irrelevant details. In OOP, abstraction is achieved through classes and objects, where the implementation details are hidden and only the essential features are exposed to the user.\n",
        "\n",
        "Encapsulation: This refers to the practice of wrapping data and functions within a single unit or object. This helps in maintaining the state of the object and ensuring that its data remains hidden and secure from external access.\n",
        "\n",
        "Inheritance: This is a mechanism where an object acquires all the properties and behaviors of its parent object. This allows you to create new classes that are built upon existing classes, and reuse or modify the existing code.\n",
        "\n",
        "Polymorphism: This refers to the ability of objects to take on many forms. In OOP, polymorphism is achieved through method overriding and method overloading, where a single method can perform multiple operations based on the context in which it is used."
      ],
      "metadata": {
        "id": "pA1F9Zb48ojj"
      }
    },
    {
      "cell_type": "code",
      "source": [
        "# Q3. Explain why the __init__() function is used. Give a suitable example."
      ],
      "metadata": {
        "id": "kUn8r3kZ8tDb"
      },
      "execution_count": 5,
      "outputs": []
    },
    {
      "cell_type": "markdown",
      "source": [
        "The __init__ function in Python is a special method that is automatically called when an object of a class is created. It is used to initialize the attributes of the class and to set the default values for those attributes. The __init__ method is often referred to as a constructor."
      ],
      "metadata": {
        "id": "-K_a6KjT_Bys"
      }
    },
    {
      "cell_type": "code",
      "source": [
        "class Car:\n",
        "    def __init__(self, make, model, year):\n",
        "        self.make = make\n",
        "        self.model = model\n",
        "        self.year = year\n",
        "        self.odometer_reading = 0\n",
        "\n",
        "    def get_descriptive_name(self):\n",
        "        long_name = f\"{self.make} {self.model} ({self.year})\"\n",
        "        return long_name.title()\n",
        "\n",
        "    def read_odometer(self):\n",
        "        print(f\"This car has {self.odometer_reading} miles on it.\")\n",
        "\n",
        "my_car = Car(\"audi\", \"a4\", 2019)\n",
        "print(my_car.get_descriptive_name())\n",
        "my_car.read_odometer()\n"
      ],
      "metadata": {
        "colab": {
          "base_uri": "https://localhost:8080/"
        },
        "id": "EVqfVDyW_C54",
        "outputId": "99a0fc49-27dc-42dc-ec75-45bb818c7930"
      },
      "execution_count": 6,
      "outputs": [
        {
          "output_type": "stream",
          "name": "stdout",
          "text": [
            "Audi A4 (2019)\n",
            "This car has 0 miles on it.\n"
          ]
        }
      ]
    },
    {
      "cell_type": "code",
      "source": [
        "# Q4. Why self is used in OOPs?"
      ],
      "metadata": {
        "id": "pJN15IXE_Fg1"
      },
      "execution_count": 7,
      "outputs": []
    },
    {
      "cell_type": "markdown",
      "source": [
        "In object-oriented programming (OOP), the self keyword is used to refer to the instance of an object that is calling a method. It is used to access the attributes and methods of the current object, and to modify their values.\n",
        "\n",
        "When a method is called on an object, the object is automatically passed as the first argument to the method. In Python, this argument is usually named self, although it can be named anything you like. By convention, it is named self to indicate that it refers to the instance of the object that is calling the method."
      ],
      "metadata": {
        "id": "8EKMEJ4j_cob"
      }
    },
    {
      "cell_type": "code",
      "source": [
        "class Car:\n",
        "    def __init__(self, make, model, year):\n",
        "        self.make = make\n",
        "        self.model = model\n",
        "        self.year = year\n",
        "        self.odometer_reading = 0\n",
        "\n",
        "    def get_descriptive_name(self):\n",
        "        long_name = f\"{self.make} {self.model} ({self.year})\"\n",
        "        return long_name.title()\n",
        "\n",
        "    def read_odometer(self):\n",
        "        print(f\"This car has {self.odometer_reading} miles on it.\")\n",
        "\n",
        "my_car = Car(\"audi\", \"a4\", 2019)\n",
        "print(my_car.get_descriptive_name())\n",
        "my_car.read_odometer()\n"
      ],
      "metadata": {
        "colab": {
          "base_uri": "https://localhost:8080/"
        },
        "id": "_lDnDKeM_dG0",
        "outputId": "1d83b9da-f327-48eb-a139-51fa81dec594"
      },
      "execution_count": 8,
      "outputs": [
        {
          "output_type": "stream",
          "name": "stdout",
          "text": [
            "Audi A4 (2019)\n",
            "This car has 0 miles on it.\n"
          ]
        }
      ]
    },
    {
      "cell_type": "code",
      "source": [
        "# Q5. What is inheritance? Give an example for each type of inheritance."
      ],
      "metadata": {
        "id": "YJ1IAkdW_iYi"
      },
      "execution_count": 11,
      "outputs": []
    },
    {
      "cell_type": "markdown",
      "source": [
        "Inheritance is a fundamental concept in object-oriented programming (OOP) that allows you to create new classes that are derived from existing classes. The new classes inherit attributes and behaviors from the existing classes and can also have additional attributes and behaviors of their own. Inheritance allows you to reuse code, reduce complexity, and create more flexible and maintainable programs."
      ],
      "metadata": {
        "id": "Jkbf7_zBAgQW"
      }
    },
    {
      "cell_type": "code",
      "source": [
        "# Single Inheritance\n",
        "class Shape:\n",
        "    def __init__(self, sides):\n",
        "        self.sides = sides\n",
        "        \n",
        "    def get_sides(self):\n",
        "        return self.sides\n",
        "\n",
        "class Triangle(Shape):\n",
        "    def __init__(self, sides):\n",
        "        Shape.__init__(self, sides)\n",
        "        \n",
        "triangle = Triangle(3)\n",
        "print(triangle.get_sides())\n"
      ],
      "metadata": {
        "colab": {
          "base_uri": "https://localhost:8080/"
        },
        "id": "mdaUYqEjAh1Y",
        "outputId": "939b6bdb-ae4a-4ddb-8b57-34b28aa6764d"
      },
      "execution_count": 14,
      "outputs": [
        {
          "output_type": "stream",
          "name": "stdout",
          "text": [
            "3\n"
          ]
        }
      ]
    },
    {
      "cell_type": "code",
      "source": [
        "# Multiple Inheritance\n",
        "class Animal:\n",
        "    def __init__(self, species):\n",
        "        self.species = species\n",
        "        \n",
        "    def get_species(self):\n",
        "        return self.species\n",
        "        \n",
        "class Bird:\n",
        "    def __init__(self, wingspan):\n",
        "        self.wingspan = wingspan\n",
        "        \n",
        "    def get_wingspan(self):\n",
        "        return self.wingspan\n",
        "        \n",
        "class Eagle(Animal, Bird):\n",
        "    def __init__(self, species, wingspan):\n",
        "        Animal.__init__(self, species)\n",
        "        Bird.__init__(self, wingspan)\n",
        "        \n",
        "eagle = Eagle(\"Bald Eagle\", 6)\n",
        "print(eagle.get_species())\n",
        "print(eagle.get_wingspan())"
      ],
      "metadata": {
        "colab": {
          "base_uri": "https://localhost:8080/"
        },
        "id": "n8hXDrf8Ap2U",
        "outputId": "16519c42-af95-43c5-8270-75f991a1dd8b"
      },
      "execution_count": 17,
      "outputs": [
        {
          "output_type": "stream",
          "name": "stdout",
          "text": [
            "Bald Eagle\n",
            "6\n"
          ]
        }
      ]
    },
    {
      "cell_type": "code",
      "source": [
        "#Multilevel Inheritance\n",
        "class Shape:\n",
        "    def __init__(self, sides):\n",
        "        self.sides = sides\n",
        "        \n",
        "    def get_sides(self):\n",
        "        return self.sides\n",
        "        \n",
        "class Triangle(Shape):\n",
        "    def __init__(self, sides):\n",
        "        Shape.__init__(self, sides)\n",
        "        \n",
        "class RightTriangle(Triangle):\n",
        "    def __init__(self, sides):\n",
        "        Triangle.__init__(self, sides)\n",
        "        \n",
        "right_triangle = RightTriangle(3)\n",
        "print(right_triangle.get_sides())\n"
      ],
      "metadata": {
        "colab": {
          "base_uri": "https://localhost:8080/"
        },
        "id": "QCcA5NIaBHvZ",
        "outputId": "53517883-44dc-4ee6-d03a-b60aeaa14bff"
      },
      "execution_count": 19,
      "outputs": [
        {
          "output_type": "stream",
          "name": "stdout",
          "text": [
            "3\n"
          ]
        }
      ]
    },
    {
      "cell_type": "code",
      "source": [],
      "metadata": {
        "id": "Np5M-VP_BVhF"
      },
      "execution_count": null,
      "outputs": []
    }
  ]
}