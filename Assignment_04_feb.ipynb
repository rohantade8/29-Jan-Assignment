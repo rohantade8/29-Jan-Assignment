{
  "cells": [
    {
      "cell_type": "code",
      "execution_count": 5,
      "id": "f4569ffb",
      "metadata": {
        "id": "f4569ffb"
      },
      "outputs": [],
      "source": [
        "# Q1. Create a python program to sort the given list of tuples based on integer value using a lambda function."
      ]
    },
    {
      "cell_type": "code",
      "execution_count": 1,
      "id": "57646656",
      "metadata": {
        "colab": {
          "base_uri": "https://localhost:8080/"
        },
        "id": "57646656",
        "outputId": "f4d2775d-508b-45d2-f479-8fb05705dd94"
      },
      "outputs": [
        {
          "output_type": "stream",
          "name": "stdout",
          "text": [
            "Original list: [('Sachin Tendulkar', 34357), ('Ricky Ponting', 27483), ('Jack Kallis', 25534), ('Virat Kohli', 24936)]\n",
            "Sorted list: [('Virat Kohli', 24936), ('Jack Kallis', 25534), ('Ricky Ponting', 27483), ('Sachin Tendulkar', 34357)]\n"
          ]
        }
      ],
      "source": [
        "list_of_tuples = [('Sachin Tendulkar', 34357), ('Ricky Ponting', 27483), ('Jack Kallis', 25534), ('Virat Kohli', 24936)]\n",
        "\n",
        "sorted_list = sorted(list_of_tuples, key=lambda x: x[1])\n",
        "\n",
        "print(\"Original list:\", list_of_tuples)\n",
        "print(\"Sorted list:\", sorted_list)\n"
      ]
    },
    {
      "cell_type": "code",
      "execution_count": 2,
      "id": "c92a3f48",
      "metadata": {
        "id": "c92a3f48"
      },
      "outputs": [],
      "source": [
        "#Q2. Write a Python Program to find the squares of all the numbers in the given list of integers using lambda and map functions. [1, 2, 3, 4, 5, 6, 7, 8, 9, 10]"
      ]
    },
    {
      "cell_type": "code",
      "execution_count": 3,
      "id": "04a79d60",
      "metadata": {
        "colab": {
          "base_uri": "https://localhost:8080/"
        },
        "id": "04a79d60",
        "outputId": "f588ba72-9ab4-4c4d-b367-51041673a97b"
      },
      "outputs": [
        {
          "output_type": "stream",
          "name": "stdout",
          "text": [
            "Original numbers: [1, 2, 3, 4, 5, 6, 7, 8, 9, 10]\n",
            "Squared numbers: [1, 4, 9, 16, 25, 36, 49, 64, 81, 100]\n"
          ]
        }
      ],
      "source": [
        "numbers = [1,2,3,4,5,6,7,8,9,10]\n",
        "squared_numbers =list(map(lambda x : x**2 , numbers))\n",
        "\n",
        "print(\"Original numbers:\" , numbers)\n",
        "print(\"Squared numbers:\" , squared_numbers)"
      ]
    },
    {
      "cell_type": "code",
      "execution_count": 4,
      "id": "71fa7497",
      "metadata": {
        "id": "71fa7497"
      },
      "outputs": [],
      "source": [
        "# Q3. Write a python program to convert the given list of integers into a tuple of strings. Use map and lambda functions\n",
        "# Given String: [1, 2, 3, 4, 5, 6, 7, 8, 9, 10]\n",
        "# Expected output: ('1', '2', '3', '4', '5', '6', '7', '8', '9', '10')"
      ]
    },
    {
      "cell_type": "code",
      "execution_count": 6,
      "id": "f672ebee",
      "metadata": {
        "colab": {
          "base_uri": "https://localhost:8080/"
        },
        "id": "f672ebee",
        "outputId": "90c36f71-1013-4391-b303-fee7e109acb5"
      },
      "outputs": [
        {
          "output_type": "stream",
          "name": "stdout",
          "text": [
            "List of Integers : [1, 2, 3, 4, 5, 6, 7, 8, 9, 10]\n",
            "Tuples of string : ('1', '2', '3', '4', '5', '6', '7', '8', '9', '10')\n"
          ]
        }
      ],
      "source": [
        "number = [1,2,3,4,5,6,7,8,9,10]\n",
        "string = tuple(map(lambda x : str(x) , number ))\n",
        "                       \n",
        "print(\"List of Integers :\", number )\n",
        "print(\"Tuples of string :\", string )"
      ]
    },
    {
      "cell_type": "code",
      "execution_count": 7,
      "id": "7b894ce3",
      "metadata": {
        "id": "7b894ce3"
      },
      "outputs": [],
      "source": [
        "# Q4. Write a python program using reduce function to compute the product of a list containing numbers from 1 to 25."
      ]
    },
    {
      "cell_type": "code",
      "execution_count": 8,
      "id": "032fe128",
      "metadata": {
        "colab": {
          "base_uri": "https://localhost:8080/"
        },
        "id": "032fe128",
        "outputId": "0eef77c0-e8a9-43b0-81f7-94477c084807"
      },
      "outputs": [
        {
          "output_type": "stream",
          "name": "stdout",
          "text": [
            "Numbers: [1, 2, 3, 4, 5, 6, 7, 8, 9, 10]\n",
            "Product: 3628800\n"
          ]
        }
      ],
      "source": [
        "from functools import reduce\n",
        "\n",
        "numberes = [i for i in range(1,26)]\n",
        "\n",
        "product = reduce(lambda x, y : x*y,numbers)\n",
        "\n",
        "print(\"Numbers:\" ,numbers )\n",
        "print(\"Product:\" , product )"
      ]
    },
    {
      "cell_type": "code",
      "execution_count": 9,
      "id": "57db2d50",
      "metadata": {
        "id": "57db2d50"
      },
      "outputs": [],
      "source": [
        "# Q5. Write a python program to filter the numbers in a given list that are divisible by 2 and 3 using the filter function.\n",
        "# [2, 3, 6, 9, 27, 60, 90, 120, 55, 46]"
      ]
    },
    {
      "cell_type": "code",
      "execution_count": 10,
      "id": "5b6266cd",
      "metadata": {
        "colab": {
          "base_uri": "https://localhost:8080/"
        },
        "id": "5b6266cd",
        "outputId": "35bbbac0-fecb-4788-fa7a-b68195be0cca"
      },
      "outputs": [
        {
          "output_type": "stream",
          "name": "stdout",
          "text": [
            "Numbers divisible by both 2 and 3: [120, 90, 60, 6]\n"
          ]
        }
      ],
      "source": [
        "l = [2,3,6,9,27,60,90,120,55,46]\n",
        "a = list(filter(lambda x : x % 2 == 0, l))\n",
        "b = list(filter(lambda y : y % 3 == 0, l))\n",
        "c = set(a).intersection(b)\n",
        "result = list(c)\n",
        "\n",
        "print(\"Numbers divisible by both 2 and 3:\", result)\n"
      ]
    },
    {
      "cell_type": "code",
      "source": [
        "def is_divisible(num):\n",
        "    return num % 2 == 0 and num % 3 == 0\n",
        "\n",
        "numbers = [2, 3, 6, 9, 27, 60, 90, 120, 55, 46]\n",
        "filtered_numbers = list(filter(is_divisible, numbers))\n",
        "\n",
        "print(\"Numbers divisible by both 2 and 3:\", filtered_numbers)\n"
      ],
      "metadata": {
        "colab": {
          "base_uri": "https://localhost:8080/"
        },
        "id": "D7FA-4eLeH9R",
        "outputId": "3ae9adad-77a2-4a9c-d769-b202bd8b23ba"
      },
      "id": "D7FA-4eLeH9R",
      "execution_count": 11,
      "outputs": [
        {
          "output_type": "stream",
          "name": "stdout",
          "text": [
            "Numbers divisible by both 2 and 3: [6, 60, 90, 120]\n"
          ]
        }
      ]
    },
    {
      "cell_type": "code",
      "source": [
        "# Q6. Write a python program to find palindromes in the given list of strings using lambda and filter function.\n",
        "# ['python', 'php', 'aba', 'radar', 'level']"
      ],
      "metadata": {
        "id": "JeOXxo2GeOSx"
      },
      "id": "JeOXxo2GeOSx",
      "execution_count": 12,
      "outputs": []
    },
    {
      "cell_type": "code",
      "source": [
        "words = ['python', 'php', 'aba', 'radar', 'level']\n",
        "palindromes = list(filter(lambda x: x == x[::-1], words))\n",
        "\n",
        "print(\"Palindromes:\", palindromes)"
      ],
      "metadata": {
        "colab": {
          "base_uri": "https://localhost:8080/"
        },
        "id": "UmPwqCaNehhh",
        "outputId": "14487315-b6b9-4512-ef31-3f2e4b7247c5"
      },
      "id": "UmPwqCaNehhh",
      "execution_count": 13,
      "outputs": [
        {
          "output_type": "stream",
          "name": "stdout",
          "text": [
            "Palindromes: ['php', 'aba', 'radar', 'level']\n"
          ]
        }
      ]
    }
  ],
  "metadata": {
    "kernelspec": {
      "display_name": "Python 3 (ipykernel)",
      "language": "python",
      "name": "python3"
    },
    "language_info": {
      "codemirror_mode": {
        "name": "ipython",
        "version": 3
      },
      "file_extension": ".py",
      "mimetype": "text/x-python",
      "name": "python",
      "nbconvert_exporter": "python",
      "pygments_lexer": "ipython3",
      "version": "3.11.1"
    },
    "colab": {
      "provenance": []
    }
  },
  "nbformat": 4,
  "nbformat_minor": 5
}