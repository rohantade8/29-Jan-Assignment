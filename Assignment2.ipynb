{
 "cells": [
  {
   "cell_type": "code",
   "execution_count": 1,
   "id": "a0ec325a-d330-404a-838e-970a15076d6a",
   "metadata": {},
   "outputs": [],
   "source": [
    "# Que 1 . Write a program to calculate grades according to the following criteria"
   ]
  },
  {
   "cell_type": "code",
   "execution_count": 2,
   "id": "de63632e-e1bf-4619-9dd6-7fbb30e29d30",
   "metadata": {},
   "outputs": [
    {
     "name": "stdout",
     "output_type": "stream",
     "text": [
      "Enter your marks 100\n"
     ]
    },
    {
     "name": "stdout",
     "output_type": "stream",
     "text": [
      "you will get Grade A\n"
     ]
    }
   ],
   "source": [
    "marks = float(input(\"Enter your marks\"))\n",
    "if marks > 90 :\n",
    "    print(\"you will get Grade A\")\n",
    "elif marks > 80 and marks <=90: \n",
    "    print(\"you will get Grade B\")\n",
    "elif marks>= 60 and marks <= 80 :\n",
    "    print(\"you will get Grade C\")\n",
    "else:\n",
    "    print(\"you will get Grade D\")"
   ]
  },
  {
   "cell_type": "code",
   "execution_count": 3,
   "id": "7c5e66cc-d370-4e1d-a046-bd124363ba72",
   "metadata": {},
   "outputs": [],
   "source": [
    "# Que 2 . Write a program to accept the cost price of a bike and display the road tax to be paid according to the following criteria:"
   ]
  },
  {
   "cell_type": "code",
   "execution_count": 4,
   "id": "fe7072eb-ba0e-4cd5-8351-661651842873",
   "metadata": {},
   "outputs": [
    {
     "name": "stdout",
     "output_type": "stream",
     "text": [
      "Enter the cost of the bike 120000\n"
     ]
    },
    {
     "name": "stdout",
     "output_type": "stream",
     "text": [
      "The road tax to be paid is 15%\n"
     ]
    }
   ],
   "source": [
    "price = int(input(\"Enter the cost of the bike\"))\n",
    "if price > 100000 :\n",
    "  print(\"The road tax to be paid is 15%\")\n",
    "elif price >50000 and price <=100000 :\n",
    "  print(\"The road tax to be paid is 10%\")\n",
    "else :\n",
    "  print(\"The road tax to be paid is 5%\")"
   ]
  },
  {
   "cell_type": "code",
   "execution_count": 5,
   "id": "49702716-6171-4dd1-881a-a1cfd9a4cd2f",
   "metadata": {},
   "outputs": [],
   "source": [
    "# Que 3 . Accept any city from the user and disply the monument of that city"
   ]
  },
  {
   "cell_type": "code",
   "execution_count": 6,
   "id": "30720772-c522-4940-9b2a-d7e55409167c",
   "metadata": {},
   "outputs": [
    {
     "name": "stdout",
     "output_type": "stream",
     "text": [
      "Enter name of your City Delhi\n"
     ]
    },
    {
     "name": "stdout",
     "output_type": "stream",
     "text": [
      "Red Fort\n"
     ]
    }
   ],
   "source": [
    "City = str(input(\"Enter name of your City\"))\n",
    "if City == \"Delhi\" :\n",
    "    print(\"Red Fort\")\n",
    "elif City ==\"Agra\" :\n",
    "    print(\"Taj Mahal\")\n",
    "elif City ==\"Jaipur\":\n",
    "    print(\"Jal Mahal\")"
   ]
  },
  {
   "cell_type": "code",
   "execution_count": 7,
   "id": "374ec444-56ae-4830-beb4-daa7b80db511",
   "metadata": {},
   "outputs": [],
   "source": [
    "# Que 4 .Check how many times a given number can be divided by 3 before it is less than or equal to 10"
   ]
  },
  {
   "cell_type": "code",
   "execution_count": 10,
   "id": "89912146-b773-4dec-840b-0042670486c9",
   "metadata": {},
   "outputs": [
    {
     "name": "stdout",
     "output_type": "stream",
     "text": [
      "Enter a number 30\n"
     ]
    },
    {
     "name": "stdout",
     "output_type": "stream",
     "text": [
      "1\n"
     ]
    }
   ],
   "source": [
    "Number = int(input(\"Enter a number\"))\n",
    "count = 0;\n",
    "while(Number > 10):\n",
    "    Number = Number/3\n",
    "    if Number < 10:\n",
    "        break\n",
    "    count = count + 1\n",
    "print(count)"
   ]
  },
  {
   "cell_type": "code",
   "execution_count": 11,
   "id": "c6991627-b349-4871-872e-7e5eadb45f5f",
   "metadata": {},
   "outputs": [],
   "source": [
    "# Que 5 . Why and when to use while loop in python give a detailed description with one example"
   ]
  },
  {
   "cell_type": "code",
   "execution_count": 13,
   "id": "b43a753a-cc72-434b-8c1e-a75909ee868d",
   "metadata": {},
   "outputs": [
    {
     "name": "stdout",
     "output_type": "stream",
     "text": [
      "0 5 10 15 20 25 30 35 40 45 50 55 60 65 70 75 80 85 90 95 "
     ]
    }
   ],
   "source": [
    "# A while loop in Python is used when you want to repeatedly execute a block of code as long as a certain condition is met.\n",
    "# The loop continues to execute as long as the condition is true.\n",
    "## Example :\n",
    "## We are running the bellow code until num is less than 100 and adding 5 each time\n",
    "\n",
    "num = 0;\n",
    "while num < 100:\n",
    "    print(num, end=\" \")\n",
    "    num = num + 5"
   ]
  },
  {
   "cell_type": "code",
   "execution_count": 14,
   "id": "01264741-681b-48b6-b4d8-a40327284809",
   "metadata": {},
   "outputs": [],
   "source": [
    "# Que 6. Use nested while loop to print three different patterns"
   ]
  },
  {
   "cell_type": "code",
   "execution_count": 16,
   "id": "1a3b78a6-1dbb-42a1-be6e-fb3d577b1478",
   "metadata": {},
   "outputs": [
    {
     "name": "stdout",
     "output_type": "stream",
     "text": [
      "*\n",
      "**\n",
      "***\n",
      "****\n",
      "*****\n",
      "*****\n",
      "*   *\n",
      "*   *\n",
      "*   *\n",
      "*****\n",
      "    *\n",
      "   ***\n",
      "  *****\n",
      " *******\n",
      "*********\n"
     ]
    }
   ],
   "source": [
    "# Pattern 1: right triangle\n",
    "rows = 5\n",
    "for i in range(rows):\n",
    "    j = 0\n",
    "    while j <= i:\n",
    "        print(\"*\", end=\"\")\n",
    "        j += 1\n",
    "    print()\n",
    "\n",
    "# Pattern 2: hollow square\n",
    "rows = 5\n",
    "for i in range(rows):\n",
    "    if i == 0 or i == rows - 1:\n",
    "        j = 0\n",
    "        while j < rows:\n",
    "            print(\"*\", end=\"\")\n",
    "            j += 1\n",
    "    else:\n",
    "        j = 0\n",
    "        while j < rows:\n",
    "            if j == 0 or j == rows - 1:\n",
    "                print(\"*\", end=\"\")\n",
    "            else:\n",
    "                print(\" \", end=\"\")\n",
    "            j += 1\n",
    "    print()\n",
    "\n",
    "# Pattern 3: pyramid\n",
    "rows = 5\n",
    "for i in range(rows):\n",
    "    spaces = rows - i - 1\n",
    "    while spaces > 0:\n",
    "        print(\" \", end=\"\")\n",
    "        spaces -= 1\n",
    "    stars = 2 * i + 1\n",
    "    while stars > 0:\n",
    "        print(\"*\", end=\"\")\n",
    "        stars -= 1\n",
    "    print()\n"
   ]
  },
  {
   "cell_type": "code",
   "execution_count": 1,
   "id": "4eb81ef2-c93a-4a67-aae1-e98367f03bf0",
   "metadata": {},
   "outputs": [],
   "source": [
    "# Que 7 . Reverse a while loop to disply numbers from 10 to 1"
   ]
  },
  {
   "cell_type": "code",
   "execution_count": 2,
   "id": "0d6b662a",
   "metadata": {},
   "outputs": [
    {
     "name": "stdout",
     "output_type": "stream",
     "text": [
      "10\n",
      "9\n",
      "8\n",
      "7\n",
      "6\n",
      "5\n",
      "4\n",
      "3\n",
      "2\n",
      "1\n"
     ]
    }
   ],
   "source": [
    "n = 10\n",
    "\n",
    "while n >= 1:\n",
    "    print(n)\n",
    "    n = n - 1"
   ]
  }
 ],
 "metadata": {
  "kernelspec": {
   "display_name": "Python 3",
   "language": "python",
   "name": "python3"
  },
  "language_info": {
   "codemirror_mode": {
    "name": "ipython",
    "version": 3
   },
   "file_extension": ".py",
   "mimetype": "text/x-python",
   "name": "python",
   "nbconvert_exporter": "python",
   "pygments_lexer": "ipython3",
   "version": "3.11.1"
  },
  "vscode": {
   "interpreter": {
    "hash": "47b39b0ce97d9042b5be3fd5cce6f7199516ea30236ed3dc991ec5271f6f9ea3"
   }
  }
 },
 "nbformat": 4,
 "nbformat_minor": 5
}
