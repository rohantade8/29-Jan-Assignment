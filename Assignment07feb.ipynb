{
  "nbformat": 4,
  "nbformat_minor": 0,
  "metadata": {
    "colab": {
      "provenance": []
    },
    "kernelspec": {
      "name": "python3",
      "display_name": "Python 3"
    },
    "language_info": {
      "name": "python"
    }
  },
  "cells": [
    {
      "cell_type": "markdown",
      "source": [
        "Q1. You are writing code for a company. The requirement of the company is that you create a python\n",
        "function that will check whether the password entered by the user is correct or not. The function should\n",
        "take the password as input and return the string “Valid Password” if the entered password follows the\n",
        "below-given password guidelines else it should return “Invalid Password”.\n",
        "Note: 1. The Password should contain at least two uppercase letters and at least two lowercase letters.\n",
        "2. The Password should contain at least a number and three special characters.\n",
        "3. The length of the password should be 10 characters long."
      ],
      "metadata": {
        "id": "M4KEvAdPGTob"
      }
    },
    {
      "cell_type": "code",
      "source": [
        "def check_password(password):\n",
        "    # Check length of password\n",
        "    if len(password) != 10:\n",
        "        return \"Invalid Password\"\n",
        "    \n",
        "    # Check for at least two uppercase and two lowercase letters\n",
        "    uppercase_count = 0\n",
        "    lowercase_count = 0\n",
        "    for char in password:\n",
        "        if char.isupper():\n",
        "            uppercase_count += 1\n",
        "        elif char.islower():\n",
        "            lowercase_count += 1\n",
        "    if uppercase_count < 2 or lowercase_count < 2:\n",
        "        return \"Invalid Password\"\n",
        "    \n",
        "    # Check for at least a number and three special characters\n",
        "    digit_count = 0\n",
        "    special_count = 0\n",
        "    for char in password:\n",
        "        if char.isdigit():\n",
        "            digit_count += 1\n",
        "        elif char in \"!@#$%^&*()_+-=[]{};':\\\"\\\\|,.<>/?\":\n",
        "            special_count += 1\n",
        "    if digit_count < 1 or special_count < 3:\n",
        "        return \"Invalid Password\"\n",
        "    \n",
        "    # If password meets all criteria, return \"Valid Password\"\n",
        "    return \"Valid Password\"\n",
        "\n",
        "    password =  \"Abc123!@#\"\n",
        "    result = check_password(password)\n",
        "    print(result)\n"
      ],
      "metadata": {
        "id": "KkdiQYmlCth2"
      },
      "execution_count": 24,
      "outputs": []
    },
    {
      "cell_type": "markdown",
      "source": [
        "Q2. Solve the below-given questions using at least one of the following:\n",
        "1. Lambda function\n",
        "2. Filter function\n",
        "3. Zap function\n",
        "4. List Comprehension\n",
        " Check if the string starts with a particular letter.\n",
        "* Check if the string is numeric.\n",
        "* Sort a list of tuples having fruit names and their quantity. [(\"mango\",99),(\"orange\",80), (\"grapes\", 1000)]\n",
        "* Find the squares of numbers from 1 to 10.\n",
        "* Find the cube root of numbers from 1 to 10.\n",
        "* Check if a given number is even.\n",
        "* Filter odd numbers from the given list.\n",
        "[1,2,3,4,5,6,7,8,9,10]\n",
        "* Sort a list of integers into positive and negative integers lists.\n",
        "[1,2,3,4,5,6,-1,-2,-3,-4,-5,0]"
      ],
      "metadata": {
        "id": "VC60283cHriM"
      }
    },
    {
      "cell_type": "code",
      "source": [
        "starts_with = lambda s, letter: s.startswith(letter)\n",
        "result = starts_with(\"Hello world\", \"H\")  # True\n"
      ],
      "metadata": {
        "id": "ZFRHvt8UHsOF"
      },
      "execution_count": 26,
      "outputs": []
    },
    {
      "cell_type": "code",
      "source": [
        "is_numeric = lambda s: s.isnumeric()\n",
        "result = is_numeric(\"123\")  # True\n"
      ],
      "metadata": {
        "id": "WQSPHNYrJYW1"
      },
      "execution_count": 27,
      "outputs": []
    },
    {
      "cell_type": "code",
      "source": [
        "fruits = [(\"mango\", 99), (\"orange\", 80), (\"grapes\", 1000)]\n",
        "sorted_fruits = sorted(fruits, key=lambda x: x[1])\n",
        "# [('orange', 80), ('mango', 99), ('grapes', 1000)]\n"
      ],
      "metadata": {
        "id": "FSkuLZ7ZJbTV"
      },
      "execution_count": 28,
      "outputs": []
    },
    {
      "cell_type": "code",
      "source": [
        "squares = [x**2 for x in range(1, 11)]\n",
        "# [1, 4, 9, 16, 25, 36, 49, 64, 81, 100]\n"
      ],
      "metadata": {
        "id": "gMhMIOEKJbzm"
      },
      "execution_count": 29,
      "outputs": []
    },
    {
      "cell_type": "code",
      "source": [
        "import math\n",
        "cube_roots = list(map(lambda x: math.pow(x, 1/3), range(1, 11)))\n",
        "# [1.0, 1.2599210498948732, 1.4422495703074083, 1.5874010519681994, 1.7099759466766968, 1.8171205928321397, 1.912931182772389, 2.0, 2.080083823051904, 2.154434690031884]\n"
      ],
      "metadata": {
        "id": "XDnWZZSiJdO1"
      },
      "execution_count": 30,
      "outputs": []
    },
    {
      "cell_type": "code",
      "source": [
        "is_even = lambda x: x % 2 == 0\n",
        "result = is_even(4)  # True\n"
      ],
      "metadata": {
        "id": "ERL3qkhRJe72"
      },
      "execution_count": 31,
      "outputs": []
    },
    {
      "cell_type": "code",
      "source": [
        "numbers = [1, 2, 3, 4, 5, 6, 7, 8, 9, 10]\n",
        "odd_numbers = list(filter(lambda x: x % 2 != 0, numbers))\n",
        "# [1, 3, 5, 7, 9]\n"
      ],
      "metadata": {
        "id": "Wl5MvMXCJgta"
      },
      "execution_count": 32,
      "outputs": []
    },
    {
      "cell_type": "code",
      "source": [
        "numbers = [1, 2, 3, 4, 5, 6, -1, -2, -3, -4, -5, 0]\n",
        "positive_numbers = [x for x in numbers if x > 0]\n",
        "negative_numbers = [x for x in numbers if x < 0]\n",
        "# positive_numbers: [1, 2, 3, 4, 5, 6], negative_numbers: [-1, -2, -3, -4, -5]\n"
      ],
      "metadata": {
        "id": "Fsey2iV3JiGl"
      },
      "execution_count": 33,
      "outputs": []
    },
    {
      "cell_type": "code",
      "source": [],
      "metadata": {
        "id": "-bEyeETgJjoF"
      },
      "execution_count": null,
      "outputs": []
    }
  ]
}