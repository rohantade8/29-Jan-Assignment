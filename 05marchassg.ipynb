{
  "nbformat": 4,
  "nbformat_minor": 0,
  "metadata": {
    "colab": {
      "provenance": []
    },
    "kernelspec": {
      "name": "python3",
      "display_name": "Python 3"
    },
    "language_info": {
      "name": "python"
    }
  },
  "cells": [
    {
      "cell_type": "markdown",
      "source": [
        "**Q1. How can you create a Bokeh plot using Python code?**"
      ],
      "metadata": {
        "id": "cLKRpipGVN7S"
      }
    },
    {
      "cell_type": "markdown",
      "source": [
        "To create a Bokeh plot using Python, you need to follow these steps:\n",
        "\n",
        "Install the Bokeh library: You can install the Bokeh library using pip by running the following command in your terminal or command prompt:"
      ],
      "metadata": {
        "id": "W7Y85T1Abt-E"
      }
    },
    {
      "cell_type": "code",
      "source": [
        "pip install bokeh"
      ],
      "metadata": {
        "colab": {
          "base_uri": "https://localhost:8080/"
        },
        "id": "c4yppRaobueb",
        "outputId": "0e092884-9e1f-4a59-eb95-b278d0e47754"
      },
      "execution_count": 8,
      "outputs": [
        {
          "output_type": "stream",
          "name": "stdout",
          "text": [
            "Looking in indexes: https://pypi.org/simple, https://us-python.pkg.dev/colab-wheels/public/simple/\n",
            "Requirement already satisfied: bokeh in /usr/local/lib/python3.9/dist-packages (2.4.3)\n",
            "Requirement already satisfied: packaging>=16.8 in /usr/local/lib/python3.9/dist-packages (from bokeh) (23.0)\n",
            "Requirement already satisfied: PyYAML>=3.10 in /usr/local/lib/python3.9/dist-packages (from bokeh) (6.0)\n",
            "Requirement already satisfied: Jinja2>=2.9 in /usr/local/lib/python3.9/dist-packages (from bokeh) (3.1.2)\n",
            "Requirement already satisfied: pillow>=7.1.0 in /usr/local/lib/python3.9/dist-packages (from bokeh) (8.4.0)\n",
            "Requirement already satisfied: tornado>=5.1 in /usr/local/lib/python3.9/dist-packages (from bokeh) (6.2)\n",
            "Requirement already satisfied: typing-extensions>=3.10.0 in /usr/local/lib/python3.9/dist-packages (from bokeh) (4.5.0)\n",
            "Requirement already satisfied: numpy>=1.11.3 in /usr/local/lib/python3.9/dist-packages (from bokeh) (1.22.4)\n",
            "Requirement already satisfied: MarkupSafe>=2.0 in /usr/local/lib/python3.9/dist-packages (from Jinja2>=2.9->bokeh) (2.1.2)\n"
          ]
        }
      ]
    },
    {
      "cell_type": "code",
      "source": [
        "import numpy as np\n",
        "from bokeh.plotting import figure, output_file, show\n",
        "\n",
        "x = np.linspace(0, 10, 100)\n",
        "y = np.sin(x)\n",
        "\n",
        "output_file(\"plot.html\")\n",
        "\n",
        "p = figure(title=\"My Plot\", plot_width=800, plot_height=400)\n",
        "p.line(x, y, line_width=2)\n",
        "\n",
        "show(p)\n"
      ],
      "metadata": {
        "id": "-Dre08inbw_N"
      },
      "execution_count": 9,
      "outputs": []
    },
    {
      "cell_type": "markdown",
      "source": [
        "**Q2. What are glyphs in Bokeh, and how can you add them to a Bokeh plot? Explain with an example.**"
      ],
      "metadata": {
        "id": "IO0ZEhjqcM3r"
      }
    },
    {
      "cell_type": "markdown",
      "source": [
        "Glyphs in Bokeh refer to the basic visual building blocks of a plot, such as lines, circles, rectangles, and other shapes. These glyphs are used to represent data points in the plot, and can be customized in various ways to convey the desired visual representation.\n",
        "\n",
        "To add glyphs to a Bokeh plot, we need to create a 'GlyphRenderer' object and add it to the 'Plot' object. The 'GlyphRenderer' object takes in the data to be plotted, along with various styling parameters such as color, size, and shape."
      ],
      "metadata": {
        "id": "OhwStcPuiVAb"
      }
    },
    {
      "cell_type": "code",
      "source": [
        "from bokeh.plotting import figure, show\n",
        "from bokeh.models import ColumnDataSource\n",
        "\n",
        "# create some data\n",
        "x = [1, 2, 3, 4, 5]\n",
        "y = [6, 7, 2, 4, 5]\n",
        "\n",
        "# create a ColumnDataSource object to hold the data\n",
        "source = ColumnDataSource(data=dict(x=x, y=y))\n",
        "\n",
        "# create a figure object\n",
        "p = figure(plot_width=400, plot_height=400)\n",
        "\n",
        "# add a circle glyph to the figure\n",
        "p.circle(x='x', y='y', size=10, color='navy', alpha=0.5, source=source)\n",
        "\n",
        "# add a line glyph to the figure\n",
        "p.line(x='x', y='y', line_width=2, color='red', source=source)\n",
        "\n",
        "# show the plot\n",
        "show(p)\n"
      ],
      "metadata": {
        "id": "bmN85phFiW5S"
      },
      "execution_count": 10,
      "outputs": []
    },
    {
      "cell_type": "markdown",
      "source": [
        "In this example, we first create some data for the x and y coordinates. We then create a 'ColumnDataSource' object to hold the data, which is a common practice in Bokeh. We then create a 'figure' object, and add a circle glyph to it using the 'circle()' method of the 'figure' object. We specify the x and y coordinates, the size, color, and alpha (transparency) of the circles, and the source of the data. We then add a line glyph to the same figure using the 'line()' method of the 'figure' object. Finally, we show the plot using the 'show()' function."
      ],
      "metadata": {
        "id": "-CSXPmUyjC2E"
      }
    },
    {
      "cell_type": "markdown",
      "source": [
        "**Q3. How can you customize the appearance of a Bokeh plot, including the axes, title, and legend?**"
      ],
      "metadata": {
        "id": "TnqUYlnEjrMT"
      }
    },
    {
      "cell_type": "markdown",
      "source": [
        "Customizing the axes:\n",
        "\n",
        "To customize the axes, we can use the axis attribute of the figure object, and then modify the properties of the resulting axis object. For example, to set the x-axis label and font size, we can do:"
      ],
      "metadata": {
        "id": "yR80oYRWlmNh"
      }
    },
    {
      "cell_type": "code",
      "source": [
        "p.xaxis.axis_label = \"X Axis Label\"\n",
        "p.xaxis.axis_label_text_font_size = \"14pt\""
      ],
      "metadata": {
        "id": "dRCbo2qxlmyx"
      },
      "execution_count": 11,
      "outputs": []
    },
    {
      "cell_type": "markdown",
      "source": [
        "Customizing the title:\n",
        "\n",
        "To customize the title of a plot, we can use the title attribute of the figure object. For example, to set the title and font size, we can do:"
      ],
      "metadata": {
        "id": "AM0Njl1xtVPQ"
      }
    },
    {
      "cell_type": "code",
      "source": [
        "p.title.text = \"My Plot Title\"\n",
        "p.title.text_font_size = \"16pt\""
      ],
      "metadata": {
        "id": "135LziYOtWGE"
      },
      "execution_count": 12,
      "outputs": []
    },
    {
      "cell_type": "markdown",
      "source": [
        "Customizing the legend:\n",
        "\n",
        "To customize the legend of a plot, we can use the legend attribute of the figure object, and then modify the properties of the resulting legend object. For example, to set the legend title and font size, we can do:"
      ],
      "metadata": {
        "id": "QITppp6dtjyo"
      }
    },
    {
      "cell_type": "code",
      "source": [
        "p.legend.title = \"My Legend Title\"\n",
        "p.legend.title_text_font_size = \"14pt\""
      ],
      "metadata": {
        "id": "DjAhl8-KtoGc"
      },
      "execution_count": 13,
      "outputs": []
    },
    {
      "cell_type": "markdown",
      "source": [
        "We can also modify other properties of the legend, such as its location, background color, and more.\n",
        "\n",
        "Additionally, we can customize the appearance of individual glyphs in the legend by setting the legend_label parameter when creating the glyph. For example:"
      ],
      "metadata": {
        "id": "p1UqPE4Ttut_"
      }
    },
    {
      "cell_type": "code",
      "source": [
        "p.circle(x, y, legend_label=\"My Data\", line_color=\"red\", fill_color=\"blue\")"
      ],
      "metadata": {
        "colab": {
          "base_uri": "https://localhost:8080/",
          "height": 34
        },
        "id": "aWwf6MaNtwRe",
        "outputId": "642452f7-7942-43ce-fd3c-a844848a341c"
      },
      "execution_count": 14,
      "outputs": [
        {
          "output_type": "execute_result",
          "data": {
            "text/plain": [
              "GlyphRenderer(id='1620', ...)"
            ],
            "text/html": [
              "<div style=\"display: table;\"><div style=\"display: table-row;\"><div style=\"display: table-cell;\"><b title=\"bokeh.models.renderers.GlyphRenderer\">GlyphRenderer</b>(</div><div style=\"display: table-cell;\">id&nbsp;=&nbsp;'1620', <span id=\"1677\" style=\"cursor: pointer;\">&hellip;)</span></div></div><div class=\"1676\" style=\"display: none;\"><div style=\"display: table-cell;\"></div><div style=\"display: table-cell;\">coordinates&nbsp;=&nbsp;None,</div></div><div class=\"1676\" style=\"display: none;\"><div style=\"display: table-cell;\"></div><div style=\"display: table-cell;\">data_source&nbsp;=&nbsp;ColumnDataSource(id='1616', ...),</div></div><div class=\"1676\" style=\"display: none;\"><div style=\"display: table-cell;\"></div><div style=\"display: table-cell;\">glyph&nbsp;=&nbsp;Circle(id='1617', ...),</div></div><div class=\"1676\" style=\"display: none;\"><div style=\"display: table-cell;\"></div><div style=\"display: table-cell;\">group&nbsp;=&nbsp;None,</div></div><div class=\"1676\" style=\"display: none;\"><div style=\"display: table-cell;\"></div><div style=\"display: table-cell;\">hover_glyph&nbsp;=&nbsp;None,</div></div><div class=\"1676\" style=\"display: none;\"><div style=\"display: table-cell;\"></div><div style=\"display: table-cell;\">js_event_callbacks&nbsp;=&nbsp;{},</div></div><div class=\"1676\" style=\"display: none;\"><div style=\"display: table-cell;\"></div><div style=\"display: table-cell;\">js_property_callbacks&nbsp;=&nbsp;{},</div></div><div class=\"1676\" style=\"display: none;\"><div style=\"display: table-cell;\"></div><div style=\"display: table-cell;\">level&nbsp;=&nbsp;'glyph',</div></div><div class=\"1676\" style=\"display: none;\"><div style=\"display: table-cell;\"></div><div style=\"display: table-cell;\">muted&nbsp;=&nbsp;False,</div></div><div class=\"1676\" style=\"display: none;\"><div style=\"display: table-cell;\"></div><div style=\"display: table-cell;\">muted_glyph&nbsp;=&nbsp;Circle(id='1619', ...),</div></div><div class=\"1676\" style=\"display: none;\"><div style=\"display: table-cell;\"></div><div style=\"display: table-cell;\">name&nbsp;=&nbsp;None,</div></div><div class=\"1676\" style=\"display: none;\"><div style=\"display: table-cell;\"></div><div style=\"display: table-cell;\">nonselection_glyph&nbsp;=&nbsp;Circle(id='1618', ...),</div></div><div class=\"1676\" style=\"display: none;\"><div style=\"display: table-cell;\"></div><div style=\"display: table-cell;\">selection_glyph&nbsp;=&nbsp;'auto',</div></div><div class=\"1676\" style=\"display: none;\"><div style=\"display: table-cell;\"></div><div style=\"display: table-cell;\">subscribed_events&nbsp;=&nbsp;[],</div></div><div class=\"1676\" style=\"display: none;\"><div style=\"display: table-cell;\"></div><div style=\"display: table-cell;\">syncable&nbsp;=&nbsp;True,</div></div><div class=\"1676\" style=\"display: none;\"><div style=\"display: table-cell;\"></div><div style=\"display: table-cell;\">tags&nbsp;=&nbsp;[],</div></div><div class=\"1676\" style=\"display: none;\"><div style=\"display: table-cell;\"></div><div style=\"display: table-cell;\">view&nbsp;=&nbsp;CDSView(id='1621', ...),</div></div><div class=\"1676\" style=\"display: none;\"><div style=\"display: table-cell;\"></div><div style=\"display: table-cell;\">visible&nbsp;=&nbsp;True,</div></div><div class=\"1676\" style=\"display: none;\"><div style=\"display: table-cell;\"></div><div style=\"display: table-cell;\">x_range_name&nbsp;=&nbsp;'default',</div></div><div class=\"1676\" style=\"display: none;\"><div style=\"display: table-cell;\"></div><div style=\"display: table-cell;\">y_range_name&nbsp;=&nbsp;'default')</div></div></div>\n",
              "<script>\n",
              "(function() {\n",
              "  let expanded = false;\n",
              "  const ellipsis = document.getElementById(\"1677\");\n",
              "  ellipsis.addEventListener(\"click\", function() {\n",
              "    const rows = document.getElementsByClassName(\"1676\");\n",
              "    for (let i = 0; i < rows.length; i++) {\n",
              "      const el = rows[i];\n",
              "      el.style.display = expanded ? \"none\" : \"table-row\";\n",
              "    }\n",
              "    ellipsis.innerHTML = expanded ? \"&hellip;)\" : \"&lsaquo;&lsaquo;&lsaquo;\";\n",
              "    expanded = !expanded;\n",
              "  });\n",
              "})();\n",
              "</script>\n"
            ]
          },
          "metadata": {},
          "execution_count": 14
        }
      ]
    },
    {
      "cell_type": "markdown",
      "source": [
        "**Q4. What is a Bokeh server, and how can you use it to create interactive plots that can be updated in\n",
        "real time?**"
      ],
      "metadata": {
        "id": "yfSUgvGQ306B"
      }
    },
    {
      "cell_type": "markdown",
      "source": [
        "A Bokeh server is a Python server that allows for the creation of interactive Bokeh plots that can be updated in real time. The Bokeh server provides a way to build and host interactive visualizations that can be accessed by multiple users simultaneously.\n",
        "\n",
        "To use the Bokeh server, we first need to create a Python script that defines our Bokeh plot and sets up the server. The script typically includes three main components:\n",
        "\n",
        "Data: The data to be displayed in the plot.\n",
        "\n",
        "Plot: The code that defines the plot, including the glyphs, axes, and other visual elements.\n",
        "\n",
        "Server: The code that sets up the Bokeh server and handles interactions with the plot.\n",
        "\n",
        "Here's an example of a simple Bokeh server script that creates an interactive scatter plot:"
      ],
      "metadata": {
        "id": "RbgACTl54M6u"
      }
    },
    {
      "cell_type": "code",
      "source": [
        "from bokeh.io import curdoc\n",
        "from bokeh.models import ColumnDataSource\n",
        "from bokeh.plotting import figure\n",
        "from random import random\n",
        "\n",
        "# create some initial data\n",
        "source = ColumnDataSource(data=dict(x=[random() for i in range(500)], y=[random() for i in range(500)]))\n",
        "\n",
        "# create the plot\n",
        "plot = figure()\n",
        "plot.scatter(x='x', y='y', source=source)\n",
        "\n",
        "# define a function to update the plot data\n",
        "def update():\n",
        "    new_data = dict(x=[random() for i in range(500)], y=[random() for i in range(500)])\n",
        "    source.data = new_data\n",
        "\n",
        "# set up the server\n",
        "curdoc().add_periodic_callback(update, 1000)  # update the plot data every second\n",
        "curdoc().title = \"Real-time Scatter Plot\"\n",
        "curdoc().add_root(plot)\n"
      ],
      "metadata": {
        "id": "lt0zq9Li4SyI"
      },
      "execution_count": 17,
      "outputs": []
    },
    {
      "cell_type": "markdown",
      "source": [
        "**Q5. How can you embed a Bokeh plot into a web page or dashboard using Flask or Django?**"
      ],
      "metadata": {
        "id": "gOVgP1a54nnb"
      }
    },
    {
      "cell_type": "markdown",
      "source": [
        "Bokeh provides several options for embedding plots into web applications built with Flask or Django. Here are two common methods:\n",
        "\n",
        "Using the 'components()' function:\n",
        "\n",
        "The 'components()' function in Bokeh generates HTML snippets that can be used to embed a plot into a web page. To use this function with Flask or Django, we need to first create a view function that generates the plot and passes it to the 'components()' function. Then, we can render an HTML template that includes the plot components.\n",
        "\n",
        "Here's an example using Flask:\n",
        "\n",
        "python\n"
      ],
      "metadata": {
        "id": "Gri5fVhq5OYJ"
      }
    },
    {
      "cell_type": "code",
      "source": [
        "from flask import Flask, render_template\n",
        "from bokeh.plotting import figure\n",
        "from bokeh.embed import components\n",
        "\n",
        "app = Flask(__name__)\n",
        "\n",
        "@app.route('/')\n",
        "def index():\n",
        "    # create a plot\n",
        "    plot = figure()\n",
        "    plot.circle([1, 2, 3], [4, 5, 6])\n",
        "\n",
        "    # generate plot components\n",
        "    script, div = components(plot)\n",
        "\n",
        "    # render the template\n",
        "    return render_template('index.html', script=script, div=div)\n",
        "\n",
        "if __name__ == '__main__':\n",
        "    app.run(debug=True)"
      ],
      "metadata": {
        "colab": {
          "base_uri": "https://localhost:8080/"
        },
        "id": "92EH0cK15VD-",
        "outputId": "7b772cfe-1a9a-4caf-e5f3-c5273d596cad"
      },
      "execution_count": null,
      "outputs": [
        {
          "output_type": "stream",
          "name": "stdout",
          "text": [
            " * Serving Flask app '__main__'\n",
            " * Debug mode: on\n"
          ]
        },
        {
          "output_type": "stream",
          "name": "stderr",
          "text": [
            "INFO:werkzeug:\u001b[31m\u001b[1mWARNING: This is a development server. Do not use it in a production deployment. Use a production WSGI server instead.\u001b[0m\n",
            " * Running on http://127.0.0.1:5000\n",
            "INFO:werkzeug:\u001b[33mPress CTRL+C to quit\u001b[0m\n",
            "INFO:werkzeug: * Restarting with stat\n"
          ]
        }
      ]
    },
    {
      "cell_type": "markdown",
      "source": [
        "In this example, we define a Flask view function called index() that creates a simple scatter plot using Bokeh, generates the plot components using components(), and passes them to the render_template() function along with an HTML template called index.html.\n",
        "\n",
        "Here's what the index.html template might look like:"
      ],
      "metadata": {
        "id": "TrWZyTcK5oQG"
      }
    },
    {
      "cell_type": "code",
      "source": [
        "<!doctype html>\n",
        "<html>\n",
        "  <head>\n",
        "    <title>Bokeh Plot</title>\n",
        "    {{ script|safe }}\n",
        "  </head>\n",
        "  <body>\n",
        "    {{ div|safe }}\n",
        "  </body>\n",
        "</html>\n"
      ],
      "metadata": {
        "id": "3lO-jFCn5uQl"
      },
      "execution_count": null,
      "outputs": []
    },
    {
      "cell_type": "markdown",
      "source": [
        "This template includes the plot script generated by Bokeh, as well as a placeholder where the plot will be inserted.\n",
        "\n",
        "Using the json_item() function:\n",
        "\n",
        "Another way to embed a Bokeh plot in a web application is to use the json_item() function, which generates a JSON representation of the plot that can be included in an HTML page. To use this function with Flask or Django, we can create a view function that generates the plot, generates the JSON representation using json_item(), and returns the JSON data as a response.\n",
        "\n",
        "Here's an example using Django:"
      ],
      "metadata": {
        "id": "reHYm7pu6BO-"
      }
    },
    {
      "cell_type": "code",
      "source": [
        "from django.http import JsonResponse\n",
        "from bokeh.plotting import figure\n",
        "from bokeh.embed import json_item\n",
        "\n",
        "def plot_view(request):\n",
        "    # create a plot\n",
        "    plot = figure()\n",
        "    plot.circle([1, 2, 3], [4, 5, 6])\n",
        "\n",
        "    # generate JSON data\n",
        "    plot_json = json_item(plot)\n",
        "\n",
        "    # return the JSON data as a response\n",
        "    return JsonResponse(plot_json)\n"
      ],
      "metadata": {
        "id": "Go_tgyFQ6B6e"
      },
      "execution_count": null,
      "outputs": []
    },
    {
      "cell_type": "markdown",
      "source": [
        "In this example, we define a Django view function called plot_view() that creates a simple scatter plot using Bokeh, generates the JSON representation using json_item(), and returns the JSON data as a response using the JsonResponse() function.\n",
        "\n",
        "To include the plot in an HTML page, we can use JavaScript to fetch the JSON data and create the plot using the Bokeh.embed.embed_item() function. Here's an example of what the JavaScript code might look like:\n",
        "\n"
      ],
      "metadata": {
        "id": "DKHuZQWV6PaH"
      }
    },
    {
      "cell_type": "code",
      "source": [
        "fetch('/plot_view')\n",
        "  .then(response => response.json())\n",
        "  .then(item => {\n",
        "    Bokeh.embed.embed_item(item);\n",
        "  });\n"
      ],
      "metadata": {
        "id": "gnmdGSNK6P-3"
      },
      "execution_count": null,
      "outputs": []
    },
    {
      "cell_type": "markdown",
      "source": [
        "This code fetches the JSON data from the /plot_view endpoint, converts it to a JavaScript object, and then uses the Bokeh.embed.embed_item() function to create the plot in the HTML"
      ],
      "metadata": {
        "id": "-m81CsgN6WJa"
      }
    }
  ]
}