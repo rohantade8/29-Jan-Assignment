{
  "nbformat": 4,
  "nbformat_minor": 0,
  "metadata": {
    "colab": {
      "provenance": []
    },
    "kernelspec": {
      "name": "python3",
      "display_name": "Python 3"
    },
    "language_info": {
      "name": "python"
    }
  },
  "cells": [
    {
      "cell_type": "markdown",
      "source": [
        "Q1. Create a function which will take a list as an argument and return the product of all the numbers\n",
        "after creating a flat list.\n",
        "Use the below-given list as an argument for your function.\n",
        "list1 = [1,2,3,4, [44,55,66, True], False, (34,56,78,89,34), {1,2,3,3,2,1}, {1:34, \"key2\": [55, 67, 78, 89], 4: (45,\n",
        "22, 61, 34)}, [56, 'data science'], 'Machine Learning']"
      ],
      "metadata": {
        "id": "RYlg_DUMvXOM"
      }
    },
    {
      "cell_type": "code",
      "source": [
        "def product_of_numbers(lst):\n",
        "    flat_lst = []\n",
        "    for item in lst:\n",
        "        if isinstance(item, list):\n",
        "            flat_lst.extend(item)\n",
        "        else:\n",
        "            flat_lst.append(item)\n",
        "    product = 1\n",
        "    for num in flat_lst:\n",
        "        if isinstance(num, (int, float)):\n",
        "            product *= num\n",
        "    return product\n"
      ],
      "metadata": {
        "id": "7yixgwg557un"
      },
      "execution_count": 3,
      "outputs": []
    },
    {
      "cell_type": "code",
      "source": [
        "list1 = [1,2,3,4, [44,55,66, True], False, (34,56,78,89,34), {1,2,3,3,2,1}, {1:34, \"key2\": [55, 67, 78, 89], 4: (45, 22, 61, 34)}, [56, 'data science'], 'Machine Learning']\n",
        "\n",
        "result = product_of_numbers(list1)\n",
        "print(result)\n"
      ],
      "metadata": {
        "colab": {
          "base_uri": "https://localhost:8080/"
        },
        "id": "tyha2lOJ7zUe",
        "outputId": "791d6639-979e-4c9b-d50c-f80bd6ab141e"
      },
      "execution_count": 4,
      "outputs": [
        {
          "output_type": "stream",
          "name": "stdout",
          "text": [
            "0\n"
          ]
        }
      ]
    },
    {
      "cell_type": "code",
      "source": [
        "def product_of_numbers(lst):\n",
        "    flat_lst = []\n",
        "    for item in lst:\n",
        "        if isinstance(item, list):\n",
        "            flat_lst.extend(item)\n",
        "        elif isinstance(item, dict):\n",
        "            for key, value in item.items():\n",
        "                if isinstance(key, (int, float)):\n",
        "                    flat_lst.append(key)\n",
        "                if isinstance(value, (int, float)):\n",
        "                    flat_lst.append(value)\n",
        "        else:\n",
        "            flat_lst.append(item)\n",
        "    product = 1\n",
        "    for num in flat_lst:\n",
        "        if isinstance(num, (int, float)):\n",
        "            product *= num\n",
        "    return product\n",
        "list1 = [1,2,3,4, [44,55,66, True], False, (34,56,78,89,34), {1,2,3,3,2,1}, {1:34, \"key2\": [55, 67, 78, 89], 4: (45, 22, 61, 34)}, [56, 'data science'], 'Machine Learning']\n",
        "\n",
        "result = product_of_numbers(list1)\n",
        "print(result)\n"
      ],
      "metadata": {
        "colab": {
          "base_uri": "https://localhost:8080/"
        },
        "id": "hAsT-Ber72Em",
        "outputId": "a5a5773d-0376-4c28-af8d-16c8a17addc1"
      },
      "execution_count": 6,
      "outputs": [
        {
          "output_type": "stream",
          "name": "stdout",
          "text": [
            "0\n"
          ]
        }
      ]
    },
    {
      "cell_type": "markdown",
      "source": [
        "Q2. Write a python program for encrypting a message sent to you by your friend. The logic of encryption\n",
        "should be such that, for a the output should be z. For b, the output should be y. For c, the output should\n",
        "be x respectively. Also, the whitespace should be replaced with a dollar sign. Keep the punctuation\n",
        "marks unchanged.\n",
        "Input Sentence: I want to become a Data Scientist.\n",
        "Encrypt the above input sentence using the program you just created.\n",
        "Note: Convert the given input sentence into lowercase before encrypting. The final output should be\n",
        "lowercase."
      ],
      "metadata": {
        "id": "Pkrw8Bft9OB3"
      }
    },
    {
      "cell_type": "code",
      "source": [
        "def encrypt_message(message):\n",
        "    message = message.lower() # Convert message to lowercase\n",
        "    encrypted_message = \"\"\n",
        "    for char in message:\n",
        "        if char == \" \": # Replace whitespace with dollar sign\n",
        "            encrypted_message += \"$\"\n",
        "        elif char.isalpha(): # Encrypt alphabetic characters\n",
        "            encrypted_char = chr(219 - ord(char)) # Get the reverse alphabet of the character\n",
        "            encrypted_message += encrypted_char\n",
        "        else: # Keep punctuation marks unchanged\n",
        "            encrypted_message += char\n",
        "    return encrypted_message\n",
        "\n",
        "input_sentence = \"I want to become a Data Scientist.\"\n",
        "encrypted_message = encrypt_message(input_sentence)\n",
        "print(encrypted_message)\n"
      ],
      "metadata": {
        "colab": {
          "base_uri": "https://localhost:8080/"
        },
        "id": "1DysqSsZ9Qid",
        "outputId": "053b3342-0c45-4669-f463-1141b8aa2f45"
      },
      "execution_count": 8,
      "outputs": [
        {
          "output_type": "stream",
          "name": "stdout",
          "text": [
            "r$dzmg$gl$yvxlnv$z$wzgz$hxrvmgrhg.\n"
          ]
        }
      ]
    },
    {
      "cell_type": "code",
      "source": [],
      "metadata": {
        "id": "DSsSfiTw9_fI"
      },
      "execution_count": null,
      "outputs": []
    }
  ]
}