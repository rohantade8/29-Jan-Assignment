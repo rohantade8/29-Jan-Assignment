{
 "cells": [
  {
   "cell_type": "code",
   "execution_count": 1,
   "id": "25781d65",
   "metadata": {},
   "outputs": [],
   "source": [
    "# Q1.  Explain with an example each when to use a for loop and a while loop."
   ]
  },
  {
   "cell_type": "markdown",
   "id": "3fa5b148",
   "metadata": {},
   "source": [
    "A for loop is used when you want to iterate over a sequence (such as a list, tuple, or string) or a range of numbers and you know beforehand how many times you want to repeat the loop. Here is an example that uses a for loop to iterate over a range of numbers and print the square of each number:"
   ]
  },
  {
   "cell_type": "code",
   "execution_count": 5,
   "id": "96e08cd2",
   "metadata": {},
   "outputs": [
    {
     "name": "stdout",
     "output_type": "stream",
     "text": [
      "1\n",
      "4\n",
      "9\n",
      "16\n",
      "25\n"
     ]
    }
   ],
   "source": [
    "for i in range(1, 6):\n",
    "    print(i ** 2)"
   ]
  },
  {
   "cell_type": "markdown",
   "id": "0ce6fce2",
   "metadata": {},
   "source": [
    " A while loop, on the other hand, is used when you don't know beforehand how many times you want to repeat the loop and you want to continue looping as long as a certain condition is met. Here is an example that uses a while loop to print the numbers 1 to 5:"
   ]
  },
  {
   "cell_type": "code",
   "execution_count": 10,
   "id": "a238b21c",
   "metadata": {},
   "outputs": [
    {
     "name": "stdout",
     "output_type": "stream",
     "text": [
      "1\n",
      "2\n",
      "3\n",
      "4\n",
      "5\n"
     ]
    }
   ],
   "source": [
    "i = 1\n",
    "while i <= 5:\n",
    "    print(i)\n",
    "    i = i + 1\n",
    "    \n"
   ]
  },
  {
   "cell_type": "code",
   "execution_count": 12,
   "id": "3622c8d1",
   "metadata": {},
   "outputs": [],
   "source": [
    "# Q2. Write a python program to print the sum and product of the first 10 natural numbers using for and while loop."
   ]
  },
  {
   "cell_type": "code",
   "execution_count": 13,
   "id": "6dfbb06b",
   "metadata": {},
   "outputs": [
    {
     "name": "stdout",
     "output_type": "stream",
     "text": [
      "Sum of the first 10 natural numbers using for loop: 55\n",
      "Product of the first 10 natural numbers using for loop: 3628800\n"
     ]
    }
   ],
   "source": [
    "# Using for loop\n",
    "sum_of_numbers = 0\n",
    "product_of_numbers = 1\n",
    "\n",
    "for i in range(1, 11):\n",
    "    sum_of_numbers += i\n",
    "    product_of_numbers *= i\n",
    "\n",
    "print(\"Sum of the first 10 natural numbers using for loop:\", sum_of_numbers)\n",
    "print(\"Product of the first 10 natural numbers using for loop:\", product_of_numbers)\n"
   ]
  },
  {
   "cell_type": "code",
   "execution_count": 15,
   "id": "27effa7e",
   "metadata": {},
   "outputs": [
    {
     "name": "stdout",
     "output_type": "stream",
     "text": [
      "Sum of the first 10 natural numbers using while loop: 55\n",
      "Product of the first 10 natural numbers using while loop: 3628800\n"
     ]
    }
   ],
   "source": [
    "# Using while loop\n",
    "i = 1\n",
    "sum_of_numbers = 0\n",
    "product_of_numbers = 1\n",
    "\n",
    "while i <= 10:\n",
    "    sum_of_numbers += i\n",
    "    product_of_numbers *= i\n",
    "    i += 1\n",
    "\n",
    "print(\"Sum of the first 10 natural numbers using while loop:\", sum_of_numbers)\n",
    "print(\"Product of the first 10 natural numbers using while loop:\", product_of_numbers)\n"
   ]
  },
  {
   "cell_type": "code",
   "execution_count": 18,
   "id": "71e9841d",
   "metadata": {},
   "outputs": [],
   "source": [
    "# Q3. Create a python program to compute the electricity bill for a household.\n",
    "# The per-unit charges in rupees are as follows: For the first 100 units, the user will be charged Rs. 4.5 per\n",
    "# unit, for the next 100 units, the user will be charged Rs. 6 per unit, and for the next 100 units, the user will\n",
    "# be charged Rs. 10 per unit, After 300 units and above the user will be charged Rs. 20 per unit.\n",
    "# You are required to take the units of electricity consumed in a month from the user as input.\n",
    "# Your program must pass this test case: when the unit of electricity consumed by the user in a month is\n",
    "# 310, the total electricity bill should be 2250."
   ]
  },
  {
   "cell_type": "code",
   "execution_count": 20,
   "id": "c64683db",
   "metadata": {},
   "outputs": [
    {
     "name": "stdout",
     "output_type": "stream",
     "text": [
      "Enter the units of electricity consumed in a month: 310\n",
      "Total electricity bill: Rs. 2250.0\n"
     ]
    }
   ],
   "source": [
    "units_of_electricity_consumed = int(input(\"Enter the units of electricity consumed in a month: \"))\n",
    "\n",
    "if units_of_electricity_consumed  <= 100:\n",
    "    bill = units_of_electricity_consumed  * 4.5\n",
    "elif units_of_electricity_consumed  <= 200:\n",
    "    bill = (100 * 4.5) + ((units_of_electricity_consumed  - 100) * 6)\n",
    "elif units_of_electricity_consumed  <= 300:\n",
    "    bill = (100 * 4.5) + (100 * 6) + ((units_of_electricity_consumed  - 200) * 10)\n",
    "else:\n",
    "    bill = (100 * 4.5) + (100 * 6) + (100 * 10) + ((units_of_electricity_consumed - 300) * 20)\n",
    "\n",
    "print(\"Total electricity bill: Rs.\", bill)"
   ]
  },
  {
   "cell_type": "code",
   "execution_count": 21,
   "id": "4a2554a1",
   "metadata": {},
   "outputs": [],
   "source": [
    "# Q4. Create a list of numbers from 1 to 100. Use for loop and while loop to calculate the cube of each\n",
    "# number and if the cube of that number is divisible by 4 or 5 then append that number in a list and print\n",
    "# that list."
   ]
  },
  {
   "cell_type": "code",
   "execution_count": 22,
   "id": "f618be43",
   "metadata": {},
   "outputs": [
    {
     "name": "stdout",
     "output_type": "stream",
     "text": [
      "The list of numbers whose cube is divisible by 4 or 5: [8, 64, 125, 216, 512, 1000, 1728, 2744, 3375, 4096, 5832, 8000, 10648, 13824, 15625, 17576, 21952, 27000, 32768, 39304, 42875, 46656, 54872, 64000, 74088, 85184, 91125, 97336, 110592, 125000, 140608, 157464, 166375, 175616, 195112, 216000, 238328, 262144, 274625, 287496, 314432, 343000, 373248, 405224, 421875, 438976, 474552, 512000, 551368, 592704, 614125, 636056, 681472, 729000, 778688, 830584, 857375, 884736, 941192, 1000000]\n"
     ]
    }
   ],
   "source": [
    "#using a for loop\n",
    "numbers = []\n",
    "for i in range(1,101):\n",
    "    cube = i**3\n",
    "    if (cube % 4 == 0) or (cube % 5 == 0):\n",
    "        numbers.append(cube)\n",
    "print(\"The list of numbers whose cube is divisible by 4 or 5:\", numbers)"
   ]
  },
  {
   "cell_type": "code",
   "execution_count": 24,
   "id": "79a31503",
   "metadata": {},
   "outputs": [
    {
     "name": "stdout",
     "output_type": "stream",
     "text": [
      "The list of numbers whose cube is divisible by 4 or 5: [8, 64, 125, 216, 512, 1000, 1728, 2744, 3375, 4096, 5832, 8000, 10648, 13824, 15625, 17576, 21952, 27000, 32768, 39304, 42875, 46656, 54872, 64000, 74088, 85184, 91125, 97336, 110592, 125000, 140608, 157464, 166375, 175616, 195112, 216000, 238328, 262144, 274625, 287496, 314432, 343000, 373248, 405224, 421875, 438976, 474552, 512000, 551368, 592704, 614125, 636056, 681472, 729000, 778688, 830584, 857375, 884736, 941192, 1000000]\n"
     ]
    }
   ],
   "source": [
    "# using a while loop \n",
    "numbers = []\n",
    "i = 1\n",
    "while i <= 100:\n",
    "    cube = i**3\n",
    "    if (cube % 4 == 0) or (cube % 5 == 0):\n",
    "        numbers.append(cube)\n",
    "    i += 1\n",
    "print(\"The list of numbers whose cube is divisible by 4 or 5:\", numbers)"
   ]
  },
  {
   "cell_type": "code",
   "execution_count": 26,
   "id": "b14771ee",
   "metadata": {},
   "outputs": [],
   "source": [
    "# Q5. Write a program to filter count vowels in the below-given string.\n",
    "# string = \"I want to become a data scientist\""
   ]
  },
  {
   "cell_type": "code",
   "execution_count": 27,
   "id": "3e78b811",
   "metadata": {},
   "outputs": [
    {
     "name": "stdout",
     "output_type": "stream",
     "text": [
      "Number of vowels in the given string: 12\n"
     ]
    }
   ],
   "source": [
    "string = \"I want to become a data scientist\"\n",
    "vowels = \"aeiouAEIOU\"\n",
    "count = 0\n",
    "for char in string:\n",
    "    if char in vowels:\n",
    "        count += 1\n",
    "print(\"Number of vowels in the given string:\", count)\n"
   ]
  }
 ],
 "metadata": {
  "kernelspec": {
   "display_name": "Python 3 (ipykernel)",
   "language": "python",
   "name": "python3"
  },
  "language_info": {
   "codemirror_mode": {
    "name": "ipython",
    "version": 3
   },
   "file_extension": ".py",
   "mimetype": "text/x-python",
   "name": "python",
   "nbconvert_exporter": "python",
   "pygments_lexer": "ipython3",
   "version": "3.11.1"
  }
 },
 "nbformat": 4,
 "nbformat_minor": 5
}
